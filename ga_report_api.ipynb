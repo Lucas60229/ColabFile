{
  "nbformat": 4,
  "nbformat_minor": 0,
  "metadata": {
    "colab": {
      "name": "ga report api",
      "private_outputs": true,
      "provenance": [],
      "collapsed_sections": [],
      "include_colab_link": true
    },
    "kernelspec": {
      "name": "python3",
      "display_name": "Python 3"
    }
  },
  "cells": [
    {
      "cell_type": "markdown",
      "metadata": {
        "id": "view-in-github",
        "colab_type": "text"
      },
      "source": [
        "<a href=\"https://colab.research.google.com/github/Lucas60229/Lucaswu/blob/master/ga_report_api.ipynb\" target=\"_parent\"><img src=\"https://colab.research.google.com/assets/colab-badge.svg\" alt=\"Open In Colab\"/></a>"
      ]
    },
    {
      "cell_type": "markdown",
      "metadata": {
        "id": "B5q5Qkf8LblM"
      },
      "source": [
        "https://keyword-hero.com/documentation/finding-your-view-id-in-google-analyticshttps://keyword-hero.com/documentation/finding-your-view-id-in-google-analytics"
      ]
    },
    {
      "cell_type": "code",
      "metadata": {
        "id": "5V58g6PM3Ehq"
      },
      "source": [
        "import pandas as pd\n",
        "# import pygsheets\n",
        "from apiclient.discovery import build\n",
        "from oauth2client.service_account import ServiceAccountCredentials\n",
        "\n",
        "\n",
        "SCOPES = ['https://www.googleapis.com/auth/analytics.readonly']\n",
        "KEY_FILE_LOCATION = 'key/ga-service-account-key.json'\n",
        "# VIEW_ID = 'ga:172557771' #在query explorer就可以看到\n",
        "# SHEET_ID = ''\n",
        "\n",
        "# For the full list of dimensions & metrics, check https://developers.google.com/analytics/devguides/reporting/core/dimsmets\n",
        "# DIMENSIONS = ['ga:source','ga:medium']\n",
        "# METRICS = ['ga:users','ga:sessions']\n",
        "\n",
        "def initialize_analyticsreporting():\n",
        "  credentials = ServiceAccountCredentials.from_json_keyfile_name(\n",
        "      KEY_FILE_LOCATION, SCOPES)\n",
        "\n",
        "  # Build the service object.\n",
        "  analytics = build('analyticsreporting', 'v4', credentials=credentials)\n",
        "\n",
        "  return analytics\n",
        "\n",
        "\n",
        "def get_report(analytics):\n",
        "  return analytics.reports().batchGet(\n",
        "      body=qs_to_reportRequests(qs)\n",
        "  ).execute()\n",
        "\n",
        "\n",
        "def convert_to_dataframe(response):\n",
        "    \n",
        "  for report in response.get('reports', []):\n",
        "    columnHeader = report.get('columnHeader', {})\n",
        "    dimensionHeaders = columnHeader.get('dimensions', [])\n",
        "    metricHeaders = [i.get('name',{}) for i in columnHeader.get('metricHeader', {}).get('metricHeaderEntries', [])]\n",
        "    finalRows = []\n",
        "    \n",
        "\n",
        "    for row in report.get('data', {}).get('rows', []):\n",
        "      dimensions = row.get('dimensions', [])\n",
        "      metrics = row.get('metrics', [])[0].get('values', {})\n",
        "      rowObject = {}\n",
        "\n",
        "      for header, dimension in zip(dimensionHeaders, dimensions):\n",
        "        rowObject[header] = dimension\n",
        "        \n",
        "        \n",
        "      for metricHeader, metric in zip(metricHeaders, metrics):\n",
        "        rowObject[metricHeader] = metric\n",
        "\n",
        "      finalRows.append(rowObject)\n",
        "      \n",
        "      \n",
        "  dataFrameFormat = pd.DataFrame(finalRows)    \n",
        "  return dataFrameFormat      \n",
        "        \n",
        " \n",
        "def export_to_sheets(df):\n",
        "    gc = pygsheets.authorize(service_file='client_secrets.json')\n",
        "    sht = gc.open_by_key(SHEET_ID)\n",
        "    wks = sht.worksheet_by_title('Sheet1')\n",
        "    wks.set_dataframe(df,'A1')\n",
        "\n",
        "\n",
        "def main():\n",
        "  analytics = initialize_analyticsreporting()\n",
        "  response = get_report(analytics)\n",
        "  df = convert_to_dataframe(response)   #df = pandas dataframe\n",
        "#   export_to_sheets(df)                  #outputs to spreadsheet. comment to skip\n",
        "  return df                             \n"
      ],
      "execution_count": null,
      "outputs": []
    },
    {
      "cell_type": "code",
      "metadata": {
        "id": "8YClmDtcMrtZ"
      },
      "source": [
        "from google.colab import drive\n",
        "drive.mount('/content/drive')"
      ],
      "execution_count": null,
      "outputs": []
    },
    {
      "cell_type": "code",
      "metadata": {
        "id": "leTvVkqPIgBo"
      },
      "source": [
        "main()"
      ],
      "execution_count": null,
      "outputs": []
    },
    {
      "cell_type": "code",
      "metadata": {
        "id": "mgPxmHpdIkVu"
      },
      "source": [
        "#剖析qs\n",
        "from urllib.parse import urlparse, parse_qs\n",
        "url = \"https://www.googleapis.com/analytics/v3/data/ga?ids=ga%3A172557771&start-date=2019-09-01&end-date=2019-09-17&metrics=ga%3AtransactionRevenue&dimensions=ga%3AsourceMedium%2Cga%3AtransactionId%2Cga%3Adimension2%2Cga%3Adate&sort=ga%3Adate&filters=ga%3Asourcemedium%3D%40facebook&segment=gaid%3A%3A-1&samplingLevel=DEFAULT&include-empty-rows=true&start-index=1&max-results=20000\"\n",
        "\n",
        "\n",
        "result = urlparse(url)\n",
        "qs = parse_qs(result.query)\n",
        "qs"
      ],
      "execution_count": null,
      "outputs": []
    },
    {
      "cell_type": "code",
      "metadata": {
        "id": "d4T8B8ZKInDN"
      },
      "source": [
        "#產生report 所需的物件\n",
        "def sort_filed_parser(s):\n",
        "    if s.startswith(\"-\"):\n",
        "        return (s.replace(\"-\",\"\"),\"DESCENDING\")\n",
        "    else:\n",
        "        return (s,\"ASCENDING\")\n",
        "        \n",
        "def qs_to_reportRequests(qs):\n",
        "    rr = {'reportRequests': [\n",
        "        {\n",
        "          'viewId': qs[\"ids\"][0],\n",
        "          'dateRanges': [{'startDate': qs[\"start-date\"][0], 'endDate':  qs[\"end-date\"][0]}],\n",
        "          'metrics':  [{'expression':i} for i in qs[\"metrics\"][0].split(\",\")] ,\n",
        "          'dimensions': [{'name':j} for j in qs[\"dimensions\"][0].split(\",\")] ,\n",
        "          \"samplingLevel\":  \"LARGE\", #預設使用large，資料大時會變慢，可以改用DEFAULT或SMALL\n",
        "          \"pageSize\": 100000\n",
        "        }]}\n",
        "    if 'sort' in qs:\n",
        "        rr['reportRequests'][0][\"orderBys\"] = [{\"fieldName\":sort_filed_parser(k)[0], \"sortOrder\": sort_filed_parser(k)[1]} for k in  qs[\"sort\"][0].split(\",\")]\n",
        "    if 'filters' in qs:\n",
        "        rr['reportRequests'][0][\"filtersExpression\"] = qs[\"filters\"][0]\n",
        "    return rr\n",
        "qs_to_reportRequests(qs)\n",
        "    "
      ],
      "execution_count": null,
      "outputs": []
    },
    {
      "cell_type": "code",
      "metadata": {
        "id": "tMf15UOw5tk7"
      },
      "source": [
        "ga-service-account-credentials@keywordtag.iam.gserviceaccount.com"
      ],
      "execution_count": null,
      "outputs": []
    }
  ]
}