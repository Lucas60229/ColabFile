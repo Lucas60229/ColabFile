{
  "nbformat": 4,
  "nbformat_minor": 0,
  "metadata": {
    "colab": {
      "name": "D08.ipynb",
      "provenance": [],
      "authorship_tag": "ABX9TyP9ZNfyTM+/cLEk7Tru4rxG",
      "include_colab_link": true
    },
    "kernelspec": {
      "name": "python3",
      "display_name": "Python 3"
    }
  },
  "cells": [
    {
      "cell_type": "markdown",
      "metadata": {
        "id": "view-in-github",
        "colab_type": "text"
      },
      "source": [
        "<a href=\"https://colab.research.google.com/github/Lucas60229/ColabFile/blob/master/D08.ipynb\" target=\"_parent\"><img src=\"https://colab.research.google.com/assets/colab-badge.svg\" alt=\"Open In Colab\"/></a>"
      ]
    },
    {
      "cell_type": "code",
      "metadata": {
        "id": "sNXigzqrtCDa"
      },
      "source": [
        "import numpy as np"
      ],
      "execution_count": 1,
      "outputs": []
    },
    {
      "cell_type": "code",
      "metadata": {
        "id": "ZnyycitJtF6W"
      },
      "source": [
        "name_list = ['小明','小華','小菁','小美','小張','John','Mark','Tom']\n",
        "sex_list = ['boy','boy','girl','girl','boy','boy','boy','boy']\n",
        "weight_list = [67.5,75.3,50.1,45.5,80.8,90.4,78.4,70.7]\n",
        "rank_list = [8,1,5,4,7,6,2,3]\n",
        "myopia_list = [True,True,False,False,True,True,False,False]"
      ],
      "execution_count": 13,
      "outputs": []
    },
    {
      "cell_type": "code",
      "metadata": {
        "colab": {
          "base_uri": "https://localhost:8080/"
        },
        "id": "jSNVC_Rjtiro",
        "outputId": "acf12e6a-2119-4116-91d1-bbe585f341b0"
      },
      "source": [
        "dty = np.dtype({\"names\":('name', 'sex', 'weight', 'rank', 'myopia'), \"formats\": ((np.str_, 5),(np.str_, 5),np.float_,np.int_,np.bool_)})\n",
        "struct_array = np.zeros(8,dtype=dty)\n",
        "struct_array[\"name\"] = name_list\n",
        "struct_array[\"sex\"] = sex_list\n",
        "struct_array[\"weight\"] = weight_list\n",
        "struct_array[\"rank\"] = rank_list\n",
        "struct_array[\"myopia\"] = myopia_list\n",
        "struct_array"
      ],
      "execution_count": 19,
      "outputs": [
        {
          "output_type": "execute_result",
          "data": {
            "text/plain": [
              "array([('小明', 'boy', 67.5, 8,  True), ('小華', 'boy', 75.3, 1,  True),\n",
              "       ('小菁', 'girl', 50.1, 5, False), ('小美', 'girl', 45.5, 4, False),\n",
              "       ('小張', 'boy', 80.8, 7,  True), ('John', 'boy', 90.4, 6,  True),\n",
              "       ('Mark', 'boy', 78.4, 2, False), ('Tom', 'boy', 70.7, 3, False)],\n",
              "      dtype=[('name', '<U5'), ('sex', '<U5'), ('weight', '<f8'), ('rank', '<i8'), ('myopia', '?')])"
            ]
          },
          "metadata": {
            "tags": []
          },
          "execution_count": 19
        }
      ]
    },
    {
      "cell_type": "code",
      "metadata": {
        "colab": {
          "base_uri": "https://localhost:8080/"
        },
        "id": "huJahjXzw7HV",
        "outputId": "c2949e77-4599-4cec-f288-a6f63ed02f61"
      },
      "source": [
        "struct_array['weight'].mean()"
      ],
      "execution_count": 22,
      "outputs": [
        {
          "output_type": "execute_result",
          "data": {
            "text/plain": [
              "69.8375"
            ]
          },
          "metadata": {
            "tags": []
          },
          "execution_count": 22
        }
      ]
    },
    {
      "cell_type": "code",
      "metadata": {
        "colab": {
          "base_uri": "https://localhost:8080/"
        },
        "id": "K-kbqKbuxFE-",
        "outputId": "06d54c91-900b-4374-d26d-1052da7eb31e"
      },
      "source": [
        "struct_array[struct_array[\"sex\"] == 'boy'][\"weight\"].mean(), struct_array[struct_array[\"sex\"] == 'girl'][\"weight\"].mean()"
      ],
      "execution_count": 24,
      "outputs": [
        {
          "output_type": "execute_result",
          "data": {
            "text/plain": [
              "(77.18333333333332, 47.8)"
            ]
          },
          "metadata": {
            "tags": []
          },
          "execution_count": 24
        }
      ]
    }
  ]
}